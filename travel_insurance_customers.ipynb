{
 "cells": [
  {
   "cell_type": "code",
   "execution_count": 3,
   "id": "90cf3efa-eef8-43ef-aa7c-94e744b105cc",
   "metadata": {},
   "outputs": [],
   "source": [
    "# import dependncies\n",
    "import pandas as pd\n",
    "import numpy as np\n",
    "import seaborn as sns\n",
    "import scipy.stats as stats\n",
    "from matplotlib import pyplot as plt"
   ]
  },
  {
   "cell_type": "markdown",
   "id": "7a5bb5db-ca4c-4917-9ddb-95cdd15866b7",
   "metadata": {},
   "source": [
    "## initial data loading and cleaning"
   ]
  },
  {
   "cell_type": "code",
   "execution_count": 4,
   "id": "1252d46e-cb00-4130-af5c-aebd8eb2245c",
   "metadata": {},
   "outputs": [],
   "source": [
    "# load data\n",
    "df = pd.read_csv(\"data/travel_insurance.csv\")"
   ]
  },
  {
   "cell_type": "code",
   "execution_count": 5,
   "id": "87f543ae-92ff-4c52-bdde-84267d814cf9",
   "metadata": {},
   "outputs": [
    {
     "name": "stdout",
     "output_type": "stream",
     "text": [
      "<class 'pandas.core.frame.DataFrame'>\n",
      "RangeIndex: 1987 entries, 0 to 1986\n",
      "Data columns (total 9 columns):\n",
      " #   Column               Non-Null Count  Dtype \n",
      "---  ------               --------------  ----- \n",
      " 0   Age                  1987 non-null   int64 \n",
      " 1   Employment Type      1987 non-null   object\n",
      " 2   GraduateOrNot        1987 non-null   object\n",
      " 3   AnnualIncome         1987 non-null   int64 \n",
      " 4   FamilyMembers        1987 non-null   int64 \n",
      " 5   ChronicDiseases      1987 non-null   int64 \n",
      " 6   FrequentFlyer        1987 non-null   object\n",
      " 7   EverTravelledAbroad  1987 non-null   object\n",
      " 8   TravelInsurance      1987 non-null   int64 \n",
      "dtypes: int64(5), object(4)\n",
      "memory usage: 139.8+ KB\n"
     ]
    }
   ],
   "source": [
    "# show details of how data set is constructed\n",
    "df.info()"
   ]
  },
  {
   "cell_type": "code",
   "execution_count": 6,
   "id": "92c40917-6977-4102-b869-319bbb8caf50",
   "metadata": {},
   "outputs": [
    {
     "data": {
      "text/html": [
       "<div><div id=85e65366-c45f-41f5-926a-195fd96e7a52 style=\"display:none; background-color:#9D6CFF; color:white; width:200px; height:30px; padding-left:5px; border-radius:4px; flex-direction:row; justify-content:space-around; align-items:center;\" onmouseover=\"this.style.backgroundColor='#BA9BF8'\" onmouseout=\"this.style.backgroundColor='#9D6CFF'\" onclick=\"window.commands?.execute('create-mitosheet-from-dataframe-output');\">See Full Dataframe in Mito</div> <script> if (window.commands.hasCommand('create-mitosheet-from-dataframe-output')) document.getElementById('85e65366-c45f-41f5-926a-195fd96e7a52').style.display = 'flex' </script> <table border=\"1\" class=\"dataframe\">\n",
       "  <thead>\n",
       "    <tr style=\"text-align: right;\">\n",
       "      <th></th>\n",
       "      <th>Age</th>\n",
       "      <th>Employment Type</th>\n",
       "      <th>GraduateOrNot</th>\n",
       "      <th>AnnualIncome</th>\n",
       "      <th>FamilyMembers</th>\n",
       "      <th>ChronicDiseases</th>\n",
       "      <th>FrequentFlyer</th>\n",
       "      <th>EverTravelledAbroad</th>\n",
       "      <th>TravelInsurance</th>\n",
       "    </tr>\n",
       "  </thead>\n",
       "  <tbody>\n",
       "    <tr>\n",
       "      <th>0</th>\n",
       "      <td>31</td>\n",
       "      <td>Government Sector</td>\n",
       "      <td>Yes</td>\n",
       "      <td>400000</td>\n",
       "      <td>6</td>\n",
       "      <td>1</td>\n",
       "      <td>No</td>\n",
       "      <td>No</td>\n",
       "      <td>0</td>\n",
       "    </tr>\n",
       "    <tr>\n",
       "      <th>1</th>\n",
       "      <td>31</td>\n",
       "      <td>Private Sector/Self Employed</td>\n",
       "      <td>Yes</td>\n",
       "      <td>1250000</td>\n",
       "      <td>7</td>\n",
       "      <td>0</td>\n",
       "      <td>No</td>\n",
       "      <td>No</td>\n",
       "      <td>0</td>\n",
       "    </tr>\n",
       "    <tr>\n",
       "      <th>2</th>\n",
       "      <td>34</td>\n",
       "      <td>Private Sector/Self Employed</td>\n",
       "      <td>Yes</td>\n",
       "      <td>500000</td>\n",
       "      <td>4</td>\n",
       "      <td>1</td>\n",
       "      <td>No</td>\n",
       "      <td>No</td>\n",
       "      <td>1</td>\n",
       "    </tr>\n",
       "    <tr>\n",
       "      <th>3</th>\n",
       "      <td>28</td>\n",
       "      <td>Private Sector/Self Employed</td>\n",
       "      <td>Yes</td>\n",
       "      <td>700000</td>\n",
       "      <td>3</td>\n",
       "      <td>1</td>\n",
       "      <td>No</td>\n",
       "      <td>No</td>\n",
       "      <td>0</td>\n",
       "    </tr>\n",
       "    <tr>\n",
       "      <th>4</th>\n",
       "      <td>28</td>\n",
       "      <td>Private Sector/Self Employed</td>\n",
       "      <td>Yes</td>\n",
       "      <td>700000</td>\n",
       "      <td>8</td>\n",
       "      <td>1</td>\n",
       "      <td>Yes</td>\n",
       "      <td>No</td>\n",
       "      <td>0</td>\n",
       "    </tr>\n",
       "  </tbody>\n",
       "</table></div>"
      ],
      "text/plain": [
       "   Age               Employment Type GraduateOrNot  AnnualIncome  \\\n",
       "0   31             Government Sector           Yes        400000   \n",
       "1   31  Private Sector/Self Employed           Yes       1250000   \n",
       "2   34  Private Sector/Self Employed           Yes        500000   \n",
       "3   28  Private Sector/Self Employed           Yes        700000   \n",
       "4   28  Private Sector/Self Employed           Yes        700000   \n",
       "\n",
       "   FamilyMembers  ChronicDiseases FrequentFlyer EverTravelledAbroad  \\\n",
       "0              6                1            No                  No   \n",
       "1              7                0            No                  No   \n",
       "2              4                1            No                  No   \n",
       "3              3                1            No                  No   \n",
       "4              8                1           Yes                  No   \n",
       "\n",
       "   TravelInsurance  \n",
       "0                0  \n",
       "1                0  \n",
       "2                1  \n",
       "3                0  \n",
       "4                0  "
      ]
     },
     "execution_count": 6,
     "metadata": {},
     "output_type": "execute_result"
    }
   ],
   "source": [
    "# preview data\n",
    "df.head()"
   ]
  },
  {
   "cell_type": "code",
   "execution_count": 7,
   "id": "ab9591c1-54e1-42b5-b847-2f9d8fb8dc2f",
   "metadata": {},
   "outputs": [],
   "source": [
    "# Change TravelInsurance column to be Yes/No, to be used for later analyses\n",
    "df.TravelInsurance.replace(to_replace=[0,1],\n",
    "                          value=[\"No\",\"Yes\"],\n",
    "                          inplace=True)"
   ]
  },
  {
   "cell_type": "code",
   "execution_count": 8,
   "id": "abf3d008-e5b0-4d88-9b72-5886c02d08d5",
   "metadata": {},
   "outputs": [
    {
     "data": {
      "text/html": [
       "<div><div id=4549c4b5-b645-4991-88e3-3d36090d8291 style=\"display:none; background-color:#9D6CFF; color:white; width:200px; height:30px; padding-left:5px; border-radius:4px; flex-direction:row; justify-content:space-around; align-items:center;\" onmouseover=\"this.style.backgroundColor='#BA9BF8'\" onmouseout=\"this.style.backgroundColor='#9D6CFF'\" onclick=\"window.commands?.execute('create-mitosheet-from-dataframe-output');\">See Full Dataframe in Mito</div> <script> if (window.commands.hasCommand('create-mitosheet-from-dataframe-output')) document.getElementById('4549c4b5-b645-4991-88e3-3d36090d8291').style.display = 'flex' </script> <table border=\"1\" class=\"dataframe\">\n",
       "  <thead>\n",
       "    <tr style=\"text-align: right;\">\n",
       "      <th></th>\n",
       "      <th>Age</th>\n",
       "      <th>Employment Type</th>\n",
       "      <th>GraduateOrNot</th>\n",
       "      <th>AnnualIncome</th>\n",
       "      <th>FamilyMembers</th>\n",
       "      <th>ChronicDiseases</th>\n",
       "      <th>FrequentFlyer</th>\n",
       "      <th>EverTravelledAbroad</th>\n",
       "      <th>TravelInsurance</th>\n",
       "    </tr>\n",
       "  </thead>\n",
       "  <tbody>\n",
       "    <tr>\n",
       "      <th>0</th>\n",
       "      <td>31</td>\n",
       "      <td>Government Sector</td>\n",
       "      <td>Yes</td>\n",
       "      <td>400000</td>\n",
       "      <td>6</td>\n",
       "      <td>1</td>\n",
       "      <td>No</td>\n",
       "      <td>No</td>\n",
       "      <td>No</td>\n",
       "    </tr>\n",
       "    <tr>\n",
       "      <th>1</th>\n",
       "      <td>31</td>\n",
       "      <td>Private Sector/Self Employed</td>\n",
       "      <td>Yes</td>\n",
       "      <td>1250000</td>\n",
       "      <td>7</td>\n",
       "      <td>0</td>\n",
       "      <td>No</td>\n",
       "      <td>No</td>\n",
       "      <td>No</td>\n",
       "    </tr>\n",
       "    <tr>\n",
       "      <th>2</th>\n",
       "      <td>34</td>\n",
       "      <td>Private Sector/Self Employed</td>\n",
       "      <td>Yes</td>\n",
       "      <td>500000</td>\n",
       "      <td>4</td>\n",
       "      <td>1</td>\n",
       "      <td>No</td>\n",
       "      <td>No</td>\n",
       "      <td>Yes</td>\n",
       "    </tr>\n",
       "    <tr>\n",
       "      <th>3</th>\n",
       "      <td>28</td>\n",
       "      <td>Private Sector/Self Employed</td>\n",
       "      <td>Yes</td>\n",
       "      <td>700000</td>\n",
       "      <td>3</td>\n",
       "      <td>1</td>\n",
       "      <td>No</td>\n",
       "      <td>No</td>\n",
       "      <td>No</td>\n",
       "    </tr>\n",
       "    <tr>\n",
       "      <th>4</th>\n",
       "      <td>28</td>\n",
       "      <td>Private Sector/Self Employed</td>\n",
       "      <td>Yes</td>\n",
       "      <td>700000</td>\n",
       "      <td>8</td>\n",
       "      <td>1</td>\n",
       "      <td>Yes</td>\n",
       "      <td>No</td>\n",
       "      <td>No</td>\n",
       "    </tr>\n",
       "  </tbody>\n",
       "</table></div>"
      ],
      "text/plain": [
       "   Age               Employment Type GraduateOrNot  AnnualIncome  \\\n",
       "0   31             Government Sector           Yes        400000   \n",
       "1   31  Private Sector/Self Employed           Yes       1250000   \n",
       "2   34  Private Sector/Self Employed           Yes        500000   \n",
       "3   28  Private Sector/Self Employed           Yes        700000   \n",
       "4   28  Private Sector/Self Employed           Yes        700000   \n",
       "\n",
       "   FamilyMembers  ChronicDiseases FrequentFlyer EverTravelledAbroad  \\\n",
       "0              6                1            No                  No   \n",
       "1              7                0            No                  No   \n",
       "2              4                1            No                  No   \n",
       "3              3                1            No                  No   \n",
       "4              8                1           Yes                  No   \n",
       "\n",
       "  TravelInsurance  \n",
       "0              No  \n",
       "1              No  \n",
       "2             Yes  \n",
       "3              No  \n",
       "4              No  "
      ]
     },
     "execution_count": 8,
     "metadata": {},
     "output_type": "execute_result"
    }
   ],
   "source": [
    "df.head()"
   ]
  },
  {
   "cell_type": "code",
   "execution_count": 9,
   "id": "dc25838e-b653-43e2-92fd-bd6135263b80",
   "metadata": {},
   "outputs": [
    {
     "data": {
      "text/plain": [
       "GraduateOrNot  FrequentFlyer  EverTravelledAbroad\n",
       "Yes            No             No                     1154\n",
       "No             No             No                      204\n",
       "Yes            Yes            No                      197\n",
       "               No             Yes                     191\n",
       "               Yes            Yes                     150\n",
       "No             Yes            No                       52\n",
       "               No             Yes                      21\n",
       "               Yes            Yes                      18\n",
       "dtype: int64"
      ]
     },
     "execution_count": 9,
     "metadata": {},
     "output_type": "execute_result"
    }
   ],
   "source": [
    "# check values in GraduateOrNot, FrequentFlyer, and EverTravlledAbroad\n",
    "df[[\"GraduateOrNot\",\"FrequentFlyer\",\"EverTravelledAbroad\"]].value_counts()"
   ]
  },
  {
   "cell_type": "code",
   "execution_count": 10,
   "id": "9d7a2bb4-ab02-4c67-84b5-98de7d2daef1",
   "metadata": {},
   "outputs": [],
   "source": [
    "# create version of data where Yes/No is 1 or 0\n",
    "df_transf = df.replace(to_replace=[\"Yes\", \"No\"],\n",
    "          value=[1,0])"
   ]
  },
  {
   "cell_type": "code",
   "execution_count": 11,
   "id": "d29980b5-7215-4aaf-98ee-4358689940ee",
   "metadata": {},
   "outputs": [],
   "source": [
    "#remove scientific notation of data\n",
    "pd.options.display.float_format = '{:20,.2f}'.format"
   ]
  },
  {
   "cell_type": "code",
   "execution_count": 12,
   "id": "9875cb45-d9cf-4684-8aa7-e3d128d8baae",
   "metadata": {},
   "outputs": [
    {
     "name": "stdout",
     "output_type": "stream",
     "text": [
      "<class 'pandas.core.frame.DataFrame'>\n",
      "RangeIndex: 1987 entries, 0 to 1986\n",
      "Data columns (total 9 columns):\n",
      " #   Column               Non-Null Count  Dtype \n",
      "---  ------               --------------  ----- \n",
      " 0   Age                  1987 non-null   int64 \n",
      " 1   Employment Type      1987 non-null   object\n",
      " 2   GraduateOrNot        1987 non-null   int64 \n",
      " 3   AnnualIncome         1987 non-null   int64 \n",
      " 4   FamilyMembers        1987 non-null   int64 \n",
      " 5   ChronicDiseases      1987 non-null   int64 \n",
      " 6   FrequentFlyer        1987 non-null   int64 \n",
      " 7   EverTravelledAbroad  1987 non-null   int64 \n",
      " 8   TravelInsurance      1987 non-null   int64 \n",
      "dtypes: int64(8), object(1)\n",
      "memory usage: 139.8+ KB\n"
     ]
    }
   ],
   "source": [
    "# verify column types\n",
    "df_transf.info()"
   ]
  },
  {
   "cell_type": "code",
   "execution_count": 13,
   "id": "da0c1f1f-19b8-40ba-b69a-70fc19b823ab",
   "metadata": {},
   "outputs": [
    {
     "data": {
      "text/html": [
       "<div><div id=e8d06c58-1689-4b85-9652-5e416c035d31 style=\"display:none; background-color:#9D6CFF; color:white; width:200px; height:30px; padding-left:5px; border-radius:4px; flex-direction:row; justify-content:space-around; align-items:center;\" onmouseover=\"this.style.backgroundColor='#BA9BF8'\" onmouseout=\"this.style.backgroundColor='#9D6CFF'\" onclick=\"window.commands?.execute('create-mitosheet-from-dataframe-output');\">See Full Dataframe in Mito</div> <script> if (window.commands.hasCommand('create-mitosheet-from-dataframe-output')) document.getElementById('e8d06c58-1689-4b85-9652-5e416c035d31').style.display = 'flex' </script> <table border=\"1\" class=\"dataframe\">\n",
       "  <thead>\n",
       "    <tr style=\"text-align: right;\">\n",
       "      <th></th>\n",
       "      <th>Age</th>\n",
       "      <th>Employment Type</th>\n",
       "      <th>GraduateOrNot</th>\n",
       "      <th>AnnualIncome</th>\n",
       "      <th>FamilyMembers</th>\n",
       "      <th>ChronicDiseases</th>\n",
       "      <th>FrequentFlyer</th>\n",
       "      <th>EverTravelledAbroad</th>\n",
       "      <th>TravelInsurance</th>\n",
       "    </tr>\n",
       "  </thead>\n",
       "  <tbody>\n",
       "    <tr>\n",
       "      <th>0</th>\n",
       "      <td>31</td>\n",
       "      <td>Government Sector</td>\n",
       "      <td>1</td>\n",
       "      <td>400000</td>\n",
       "      <td>6</td>\n",
       "      <td>1</td>\n",
       "      <td>0</td>\n",
       "      <td>0</td>\n",
       "      <td>0</td>\n",
       "    </tr>\n",
       "    <tr>\n",
       "      <th>1</th>\n",
       "      <td>31</td>\n",
       "      <td>Private Sector/Self Employed</td>\n",
       "      <td>1</td>\n",
       "      <td>1250000</td>\n",
       "      <td>7</td>\n",
       "      <td>0</td>\n",
       "      <td>0</td>\n",
       "      <td>0</td>\n",
       "      <td>0</td>\n",
       "    </tr>\n",
       "    <tr>\n",
       "      <th>2</th>\n",
       "      <td>34</td>\n",
       "      <td>Private Sector/Self Employed</td>\n",
       "      <td>1</td>\n",
       "      <td>500000</td>\n",
       "      <td>4</td>\n",
       "      <td>1</td>\n",
       "      <td>0</td>\n",
       "      <td>0</td>\n",
       "      <td>1</td>\n",
       "    </tr>\n",
       "    <tr>\n",
       "      <th>3</th>\n",
       "      <td>28</td>\n",
       "      <td>Private Sector/Self Employed</td>\n",
       "      <td>1</td>\n",
       "      <td>700000</td>\n",
       "      <td>3</td>\n",
       "      <td>1</td>\n",
       "      <td>0</td>\n",
       "      <td>0</td>\n",
       "      <td>0</td>\n",
       "    </tr>\n",
       "    <tr>\n",
       "      <th>4</th>\n",
       "      <td>28</td>\n",
       "      <td>Private Sector/Self Employed</td>\n",
       "      <td>1</td>\n",
       "      <td>700000</td>\n",
       "      <td>8</td>\n",
       "      <td>1</td>\n",
       "      <td>1</td>\n",
       "      <td>0</td>\n",
       "      <td>0</td>\n",
       "    </tr>\n",
       "  </tbody>\n",
       "</table></div>"
      ],
      "text/plain": [
       "   Age               Employment Type  GraduateOrNot  AnnualIncome  \\\n",
       "0   31             Government Sector              1        400000   \n",
       "1   31  Private Sector/Self Employed              1       1250000   \n",
       "2   34  Private Sector/Self Employed              1        500000   \n",
       "3   28  Private Sector/Self Employed              1        700000   \n",
       "4   28  Private Sector/Self Employed              1        700000   \n",
       "\n",
       "   FamilyMembers  ChronicDiseases  FrequentFlyer  EverTravelledAbroad  \\\n",
       "0              6                1              0                    0   \n",
       "1              7                0              0                    0   \n",
       "2              4                1              0                    0   \n",
       "3              3                1              0                    0   \n",
       "4              8                1              1                    0   \n",
       "\n",
       "   TravelInsurance  \n",
       "0                0  \n",
       "1                0  \n",
       "2                1  \n",
       "3                0  \n",
       "4                0  "
      ]
     },
     "execution_count": 13,
     "metadata": {},
     "output_type": "execute_result"
    }
   ],
   "source": [
    "# preview transfored data\n",
    "df_transf.head()"
   ]
  },
  {
   "cell_type": "code",
   "execution_count": 14,
   "id": "9ba0c0cf-8cb0-4e19-903b-100a4a75b311",
   "metadata": {},
   "outputs": [
    {
     "data": {
      "text/plain": [
       "ChronicDiseases  FrequentFlyer  TravelInsurance\n",
       "0                0              0                  792\n",
       "                                1                  326\n",
       "1                0              0                  307\n",
       "0                1              1                  179\n",
       "1                0              1                  145\n",
       "0                1              0                  138\n",
       "1                1              1                   60\n",
       "                                0                   40\n",
       "dtype: int64"
      ]
     },
     "execution_count": 14,
     "metadata": {},
     "output_type": "execute_result"
    }
   ],
   "source": [
    "# verify that ChronicDiseases, FrequentFlyer, and TravelInsurance columns are populated with 0 and 1\n",
    "df_transf[[\"ChronicDiseases\",\"FrequentFlyer\",\"TravelInsurance\"]].value_counts()"
   ]
  },
  {
   "cell_type": "code",
   "execution_count": 15,
   "id": "ed4ba2b5-bb7f-4c23-9a2c-cf873460e522",
   "metadata": {},
   "outputs": [
    {
     "data": {
      "text/plain": [
       "35.73225968797182"
      ]
     },
     "execution_count": 15,
     "metadata": {},
     "output_type": "execute_result"
    }
   ],
   "source": [
    "# calculate percentage of data represented by travel insurance customers\n",
    "df_transf.TravelInsurance.mean()*100"
   ]
  },
  {
   "cell_type": "markdown",
   "id": "69bb98fb-b8bb-4a14-b58e-aa15b04d85d5",
   "metadata": {},
   "source": [
    "## separating customers from non-customers"
   ]
  },
  {
   "cell_type": "code",
   "execution_count": 16,
   "id": "159e7036-2e1c-4235-bb37-78584f51df48",
   "metadata": {},
   "outputs": [
    {
     "name": "stderr",
     "output_type": "stream",
     "text": [
      "Note: NumExpr detected 12 cores but \"NUMEXPR_MAX_THREADS\" not set, so enforcing safe limit of 8.\n",
      "NumExpr defaulting to 8 threads.\n"
     ]
    }
   ],
   "source": [
    "# split data between customers and non-customrs\n",
    "ins = df_transf[df_transf.TravelInsurance==1]\n",
    "non_ins = df_transf[df_transf.TravelInsurance==0]"
   ]
  },
  {
   "cell_type": "code",
   "execution_count": 17,
   "id": "42739ff4-1135-4acb-9f6e-d12fcff2afd7",
   "metadata": {},
   "outputs": [
    {
     "data": {
      "text/html": [
       "<div><div id=a7b14b76-8e4d-4aae-bd85-c0176f1c04ad style=\"display:none; background-color:#9D6CFF; color:white; width:200px; height:30px; padding-left:5px; border-radius:4px; flex-direction:row; justify-content:space-around; align-items:center;\" onmouseover=\"this.style.backgroundColor='#BA9BF8'\" onmouseout=\"this.style.backgroundColor='#9D6CFF'\" onclick=\"window.commands?.execute('create-mitosheet-from-dataframe-output');\">See Full Dataframe in Mito</div> <script> if (window.commands.hasCommand('create-mitosheet-from-dataframe-output')) document.getElementById('a7b14b76-8e4d-4aae-bd85-c0176f1c04ad').style.display = 'flex' </script> <table border=\"1\" class=\"dataframe\">\n",
       "  <thead>\n",
       "    <tr style=\"text-align: right;\">\n",
       "      <th></th>\n",
       "      <th>Age</th>\n",
       "      <th>GraduateOrNot</th>\n",
       "      <th>AnnualIncome</th>\n",
       "      <th>FamilyMembers</th>\n",
       "      <th>ChronicDiseases</th>\n",
       "      <th>FrequentFlyer</th>\n",
       "      <th>EverTravelledAbroad</th>\n",
       "      <th>TravelInsurance</th>\n",
       "    </tr>\n",
       "  </thead>\n",
       "  <tbody>\n",
       "    <tr>\n",
       "      <th>count</th>\n",
       "      <td>710.00</td>\n",
       "      <td>710.00</td>\n",
       "      <td>710.00</td>\n",
       "      <td>710.00</td>\n",
       "      <td>710.00</td>\n",
       "      <td>710.00</td>\n",
       "      <td>710.00</td>\n",
       "      <td>710.00</td>\n",
       "    </tr>\n",
       "    <tr>\n",
       "      <th>mean</th>\n",
       "      <td>29.89</td>\n",
       "      <td>0.86</td>\n",
       "      <td>1,133,239.44</td>\n",
       "      <td>4.93</td>\n",
       "      <td>0.29</td>\n",
       "      <td>0.34</td>\n",
       "      <td>0.42</td>\n",
       "      <td>1.00</td>\n",
       "    </tr>\n",
       "    <tr>\n",
       "      <th>std</th>\n",
       "      <td>3.33</td>\n",
       "      <td>0.35</td>\n",
       "      <td>374,844.68</td>\n",
       "      <td>1.68</td>\n",
       "      <td>0.45</td>\n",
       "      <td>0.47</td>\n",
       "      <td>0.49</td>\n",
       "      <td>0.00</td>\n",
       "    </tr>\n",
       "    <tr>\n",
       "      <th>min</th>\n",
       "      <td>25.00</td>\n",
       "      <td>0.00</td>\n",
       "      <td>300,000.00</td>\n",
       "      <td>2.00</td>\n",
       "      <td>0.00</td>\n",
       "      <td>0.00</td>\n",
       "      <td>0.00</td>\n",
       "      <td>1.00</td>\n",
       "    </tr>\n",
       "    <tr>\n",
       "      <th>25%</th>\n",
       "      <td>27.00</td>\n",
       "      <td>1.00</td>\n",
       "      <td>800,000.00</td>\n",
       "      <td>4.00</td>\n",
       "      <td>0.00</td>\n",
       "      <td>0.00</td>\n",
       "      <td>0.00</td>\n",
       "      <td>1.00</td>\n",
       "    </tr>\n",
       "    <tr>\n",
       "      <th>50%</th>\n",
       "      <td>30.00</td>\n",
       "      <td>1.00</td>\n",
       "      <td>1,250,000.00</td>\n",
       "      <td>5.00</td>\n",
       "      <td>0.00</td>\n",
       "      <td>0.00</td>\n",
       "      <td>0.00</td>\n",
       "      <td>1.00</td>\n",
       "    </tr>\n",
       "    <tr>\n",
       "      <th>75%</th>\n",
       "      <td>33.00</td>\n",
       "      <td>1.00</td>\n",
       "      <td>1,400,000.00</td>\n",
       "      <td>6.00</td>\n",
       "      <td>1.00</td>\n",
       "      <td>1.00</td>\n",
       "      <td>1.00</td>\n",
       "      <td>1.00</td>\n",
       "    </tr>\n",
       "    <tr>\n",
       "      <th>max</th>\n",
       "      <td>35.00</td>\n",
       "      <td>1.00</td>\n",
       "      <td>1,800,000.00</td>\n",
       "      <td>9.00</td>\n",
       "      <td>1.00</td>\n",
       "      <td>1.00</td>\n",
       "      <td>1.00</td>\n",
       "      <td>1.00</td>\n",
       "    </tr>\n",
       "  </tbody>\n",
       "</table></div>"
      ],
      "text/plain": [
       "                       Age        GraduateOrNot         AnnualIncome  \\\n",
       "count               710.00               710.00               710.00   \n",
       "mean                 29.89                 0.86         1,133,239.44   \n",
       "std                   3.33                 0.35           374,844.68   \n",
       "min                  25.00                 0.00           300,000.00   \n",
       "25%                  27.00                 1.00           800,000.00   \n",
       "50%                  30.00                 1.00         1,250,000.00   \n",
       "75%                  33.00                 1.00         1,400,000.00   \n",
       "max                  35.00                 1.00         1,800,000.00   \n",
       "\n",
       "             FamilyMembers      ChronicDiseases        FrequentFlyer  \\\n",
       "count               710.00               710.00               710.00   \n",
       "mean                  4.93                 0.29                 0.34   \n",
       "std                   1.68                 0.45                 0.47   \n",
       "min                   2.00                 0.00                 0.00   \n",
       "25%                   4.00                 0.00                 0.00   \n",
       "50%                   5.00                 0.00                 0.00   \n",
       "75%                   6.00                 1.00                 1.00   \n",
       "max                   9.00                 1.00                 1.00   \n",
       "\n",
       "       EverTravelledAbroad      TravelInsurance  \n",
       "count               710.00               710.00  \n",
       "mean                  0.42                 1.00  \n",
       "std                   0.49                 0.00  \n",
       "min                   0.00                 1.00  \n",
       "25%                   0.00                 1.00  \n",
       "50%                   0.00                 1.00  \n",
       "75%                   1.00                 1.00  \n",
       "max                   1.00                 1.00  "
      ]
     },
     "execution_count": 17,
     "metadata": {},
     "output_type": "execute_result"
    }
   ],
   "source": [
    "# get summary stats of customers\n",
    "ins.describe()"
   ]
  },
  {
   "cell_type": "code",
   "execution_count": 18,
   "id": "4aa2133b-775f-4062-aeae-9425eb098529",
   "metadata": {},
   "outputs": [
    {
     "data": {
      "text/html": [
       "<div><div id=82f7aa5a-aa55-448b-acc5-744a41aa0cac style=\"display:none; background-color:#9D6CFF; color:white; width:200px; height:30px; padding-left:5px; border-radius:4px; flex-direction:row; justify-content:space-around; align-items:center;\" onmouseover=\"this.style.backgroundColor='#BA9BF8'\" onmouseout=\"this.style.backgroundColor='#9D6CFF'\" onclick=\"window.commands?.execute('create-mitosheet-from-dataframe-output');\">See Full Dataframe in Mito</div> <script> if (window.commands.hasCommand('create-mitosheet-from-dataframe-output')) document.getElementById('82f7aa5a-aa55-448b-acc5-744a41aa0cac').style.display = 'flex' </script> <table border=\"1\" class=\"dataframe\">\n",
       "  <thead>\n",
       "    <tr style=\"text-align: right;\">\n",
       "      <th></th>\n",
       "      <th>Age</th>\n",
       "      <th>GraduateOrNot</th>\n",
       "      <th>AnnualIncome</th>\n",
       "      <th>FamilyMembers</th>\n",
       "      <th>ChronicDiseases</th>\n",
       "      <th>FrequentFlyer</th>\n",
       "      <th>EverTravelledAbroad</th>\n",
       "      <th>TravelInsurance</th>\n",
       "    </tr>\n",
       "  </thead>\n",
       "  <tbody>\n",
       "    <tr>\n",
       "      <th>count</th>\n",
       "      <td>1,277.00</td>\n",
       "      <td>1,277.00</td>\n",
       "      <td>1,277.00</td>\n",
       "      <td>1,277.00</td>\n",
       "      <td>1,277.00</td>\n",
       "      <td>1,277.00</td>\n",
       "      <td>1,277.00</td>\n",
       "      <td>1,277.00</td>\n",
       "    </tr>\n",
       "    <tr>\n",
       "      <th>mean</th>\n",
       "      <td>29.52</td>\n",
       "      <td>0.85</td>\n",
       "      <td>821,299.92</td>\n",
       "      <td>4.66</td>\n",
       "      <td>0.27</td>\n",
       "      <td>0.14</td>\n",
       "      <td>0.06</td>\n",
       "      <td>0.00</td>\n",
       "    </tr>\n",
       "    <tr>\n",
       "      <th>std</th>\n",
       "      <td>2.64</td>\n",
       "      <td>0.36</td>\n",
       "      <td>328,898.90</td>\n",
       "      <td>1.56</td>\n",
       "      <td>0.45</td>\n",
       "      <td>0.35</td>\n",
       "      <td>0.25</td>\n",
       "      <td>0.00</td>\n",
       "    </tr>\n",
       "    <tr>\n",
       "      <th>min</th>\n",
       "      <td>25.00</td>\n",
       "      <td>0.00</td>\n",
       "      <td>300,000.00</td>\n",
       "      <td>2.00</td>\n",
       "      <td>0.00</td>\n",
       "      <td>0.00</td>\n",
       "      <td>0.00</td>\n",
       "      <td>0.00</td>\n",
       "    </tr>\n",
       "    <tr>\n",
       "      <th>25%</th>\n",
       "      <td>28.00</td>\n",
       "      <td>1.00</td>\n",
       "      <td>550,000.00</td>\n",
       "      <td>4.00</td>\n",
       "      <td>0.00</td>\n",
       "      <td>0.00</td>\n",
       "      <td>0.00</td>\n",
       "      <td>0.00</td>\n",
       "    </tr>\n",
       "    <tr>\n",
       "      <th>50%</th>\n",
       "      <td>29.00</td>\n",
       "      <td>1.00</td>\n",
       "      <td>800,000.00</td>\n",
       "      <td>4.00</td>\n",
       "      <td>0.00</td>\n",
       "      <td>0.00</td>\n",
       "      <td>0.00</td>\n",
       "      <td>0.00</td>\n",
       "    </tr>\n",
       "    <tr>\n",
       "      <th>75%</th>\n",
       "      <td>31.00</td>\n",
       "      <td>1.00</td>\n",
       "      <td>1,100,000.00</td>\n",
       "      <td>6.00</td>\n",
       "      <td>1.00</td>\n",
       "      <td>0.00</td>\n",
       "      <td>0.00</td>\n",
       "      <td>0.00</td>\n",
       "    </tr>\n",
       "    <tr>\n",
       "      <th>max</th>\n",
       "      <td>35.00</td>\n",
       "      <td>1.00</td>\n",
       "      <td>1,750,000.00</td>\n",
       "      <td>9.00</td>\n",
       "      <td>1.00</td>\n",
       "      <td>1.00</td>\n",
       "      <td>1.00</td>\n",
       "      <td>0.00</td>\n",
       "    </tr>\n",
       "  </tbody>\n",
       "</table></div>"
      ],
      "text/plain": [
       "                       Age        GraduateOrNot         AnnualIncome  \\\n",
       "count             1,277.00             1,277.00             1,277.00   \n",
       "mean                 29.52                 0.85           821,299.92   \n",
       "std                   2.64                 0.36           328,898.90   \n",
       "min                  25.00                 0.00           300,000.00   \n",
       "25%                  28.00                 1.00           550,000.00   \n",
       "50%                  29.00                 1.00           800,000.00   \n",
       "75%                  31.00                 1.00         1,100,000.00   \n",
       "max                  35.00                 1.00         1,750,000.00   \n",
       "\n",
       "             FamilyMembers      ChronicDiseases        FrequentFlyer  \\\n",
       "count             1,277.00             1,277.00             1,277.00   \n",
       "mean                  4.66                 0.27                 0.14   \n",
       "std                   1.56                 0.45                 0.35   \n",
       "min                   2.00                 0.00                 0.00   \n",
       "25%                   4.00                 0.00                 0.00   \n",
       "50%                   4.00                 0.00                 0.00   \n",
       "75%                   6.00                 1.00                 0.00   \n",
       "max                   9.00                 1.00                 1.00   \n",
       "\n",
       "       EverTravelledAbroad      TravelInsurance  \n",
       "count             1,277.00             1,277.00  \n",
       "mean                  0.06                 0.00  \n",
       "std                   0.25                 0.00  \n",
       "min                   0.00                 0.00  \n",
       "25%                   0.00                 0.00  \n",
       "50%                   0.00                 0.00  \n",
       "75%                   0.00                 0.00  \n",
       "max                   1.00                 0.00  "
      ]
     },
     "execution_count": 18,
     "metadata": {},
     "output_type": "execute_result"
    }
   ],
   "source": [
    "# get summary stats of non-customers\n",
    "non_ins.describe()"
   ]
  },
  {
   "cell_type": "code",
   "execution_count": 19,
   "id": "63204ce7-b9ee-45e4-8717-bc9dffa12463",
   "metadata": {},
   "outputs": [
    {
     "data": {
      "text/plain": [
       "Private Sector/Self Employed                  80.28\n",
       "Government Sector                             19.72\n",
       "Name: Employment Type, dtype: float64"
      ]
     },
     "execution_count": 19,
     "metadata": {},
     "output_type": "execute_result"
    }
   ],
   "source": [
    "# see count of employment type for customers as percentages\n",
    "ins[\"Employment Type\"].value_counts(normalize=True)*100"
   ]
  },
  {
   "cell_type": "code",
   "execution_count": 20,
   "id": "c2878829-694c-442f-9562-975cdaa15c02",
   "metadata": {},
   "outputs": [
    {
     "data": {
      "text/plain": [
       "Private Sector/Self Employed                  66.33\n",
       "Government Sector                             33.67\n",
       "Name: Employment Type, dtype: float64"
      ]
     },
     "execution_count": 20,
     "metadata": {},
     "output_type": "execute_result"
    }
   ],
   "source": [
    "# see count of employment type for non-customers as percentages\n",
    "non_ins[\"Employment Type\"].value_counts(normalize=True)*100"
   ]
  },
  {
   "cell_type": "code",
   "execution_count": null,
   "id": "9166f17c-2331-48fe-9282-59380561586d",
   "metadata": {},
   "outputs": [],
   "source": []
  },
  {
   "cell_type": "markdown",
   "id": "8f328cb2-29f4-4d26-8777-e80d5a7aea35",
   "metadata": {},
   "source": [
    "## considering income"
   ]
  },
  {
   "cell_type": "code",
   "execution_count": 21,
   "id": "57151f95-ca34-42a4-a423-caa272942cd2",
   "metadata": {},
   "outputs": [
    {
     "data": {
      "text/plain": [
       "TravelInsurance\n",
       "No              821,299.92\n",
       "Yes           1,133,239.44\n",
       "Name: AnnualIncome, dtype: float64"
      ]
     },
     "execution_count": 21,
     "metadata": {},
     "output_type": "execute_result"
    }
   ],
   "source": [
    "inc_by_ins = df.groupby(\"TravelInsurance\").AnnualIncome.mean()\n",
    "inc_by_ins"
   ]
  },
  {
   "cell_type": "code",
   "execution_count": 22,
   "id": "cc169fbf-e4cc-4f8e-9ead-a3f7989bb5e7",
   "metadata": {},
   "outputs": [
    {
     "data": {
      "text/plain": [
       "37.981193798949306"
      ]
     },
     "execution_count": 22,
     "metadata": {},
     "output_type": "execute_result"
    }
   ],
   "source": [
    "(inc_by_ins[1]/inc_by_ins[0]-1)*100"
   ]
  },
  {
   "cell_type": "code",
   "execution_count": 23,
   "id": "1737ff29-9da3-4d05-9b6c-ff2414a6bfa0",
   "metadata": {},
   "outputs": [
    {
     "data": {
      "text/plain": [
       "TravelInsurance\n",
       "No      800000\n",
       "Yes    1250000\n",
       "Name: AnnualIncome, dtype: int64"
      ]
     },
     "execution_count": 23,
     "metadata": {},
     "output_type": "execute_result"
    }
   ],
   "source": [
    "median_inc = df.groupby(\"TravelInsurance\").AnnualIncome.median()\n",
    "median_inc"
   ]
  },
  {
   "cell_type": "code",
   "execution_count": 24,
   "id": "0a8785b6-64aa-4bc6-92cd-e25f096b9be8",
   "metadata": {},
   "outputs": [
    {
     "data": {
      "text/plain": [
       "56.25"
      ]
     },
     "execution_count": 24,
     "metadata": {},
     "output_type": "execute_result"
    }
   ],
   "source": [
    "(median_inc[1]/median_inc[0]-1)*100"
   ]
  },
  {
   "cell_type": "code",
   "execution_count": null,
   "id": "eb8c0ef3-5736-47e3-afb9-e76a2e3fd1cd",
   "metadata": {},
   "outputs": [],
   "source": []
  },
  {
   "cell_type": "code",
   "execution_count": 25,
   "id": "c115863b-4c58-40e3-9525-8987a67ea5ce",
   "metadata": {},
   "outputs": [
    {
     "data": {
      "text/plain": [
       "Employment Type\n",
       "Government Sector                        725,350.88\n",
       "Private Sector/Self Employed           1,016,196.19\n",
       "Name: AnnualIncome, dtype: float64"
      ]
     },
     "execution_count": 25,
     "metadata": {},
     "output_type": "execute_result"
    }
   ],
   "source": [
    "inc_by_employment = df.groupby(\"Employment Type\").AnnualIncome.mean()\n",
    "inc_by_employment"
   ]
  },
  {
   "cell_type": "code",
   "execution_count": 26,
   "id": "d35d42b7-8dcf-4674-bdf1-5f31a446319f",
   "metadata": {},
   "outputs": [
    {
     "data": {
      "text/plain": [
       "40.09718897211811"
      ]
     },
     "execution_count": 26,
     "metadata": {},
     "output_type": "execute_result"
    }
   ],
   "source": [
    "(inc_by_employment[1]/inc_by_employment[0]-1)*100"
   ]
  },
  {
   "cell_type": "code",
   "execution_count": 73,
   "id": "7948bbb3-6cad-4a16-bd65-9822b38882de",
   "metadata": {},
   "outputs": [
    {
     "data": {
      "text/plain": [
       "Employment Type\n",
       "Government Sector                700000\n",
       "Private Sector/Self Employed    1050000\n",
       "Name: AnnualIncome, dtype: int64"
      ]
     },
     "execution_count": 73,
     "metadata": {},
     "output_type": "execute_result"
    }
   ],
   "source": [
    "med_inc_by_employment = df.groupby(\"Employment Type\").AnnualIncome.median()\n",
    "med_inc_by_employment"
   ]
  },
  {
   "cell_type": "code",
   "execution_count": 75,
   "id": "e77d0932-f1c1-45f0-a1fc-0fe1ed39b4ef",
   "metadata": {},
   "outputs": [
    {
     "data": {
      "text/plain": [
       "50.0"
      ]
     },
     "execution_count": 75,
     "metadata": {},
     "output_type": "execute_result"
    }
   ],
   "source": [
    "(med_inc_by_employment[1]/med_inc_by_employment[0]-1)*100"
   ]
  },
  {
   "cell_type": "code",
   "execution_count": null,
   "id": "aba5970e-1134-40f6-8bef-ddaa8369dcd9",
   "metadata": {},
   "outputs": [],
   "source": []
  },
  {
   "cell_type": "code",
   "execution_count": null,
   "id": "1ac3dc02-5fc6-405a-af5e-d81f20cf08f6",
   "metadata": {},
   "outputs": [],
   "source": []
  },
  {
   "cell_type": "code",
   "execution_count": 27,
   "id": "0aed7e6b-b3dc-4efd-af60-62ef4e50c946",
   "metadata": {
    "tags": []
   },
   "outputs": [
    {
     "data": {
      "image/png": "[encoded data removed]",
      "text/plain": [
       "<Figure size 432x288 with 1 Axes>"
      ]
     },
     "metadata": {
      "needs_background": "light"
     },
     "output_type": "display_data"
    }
   ],
   "source": [
    "# create box plots of income, showing customers and non-customers separately\n",
    "g = sns.boxplot(x=\"TravelInsurance\",y=\"AnnualIncome\", data=df_transf)\n",
    "\n",
    "# remove scientific notation\n",
    "plt.ticklabel_format(style='plain', axis='y')\n",
    "\n",
    "plt.ylabel(\"Annual Income\")\n",
    "plt.xlabel(\"Purchased Travel Insurance?\")\n",
    "g.set_xticklabels([\"No\",\"Yes\"])\n",
    "plt.savefig(\"resources/purchaser_income_box.png\", bbox_inches=\"tight\", facecolor=\"w\")\n",
    "\n",
    "plt.show()"
   ]
  },
  {
   "cell_type": "code",
   "execution_count": 28,
   "id": "434e3f47-123d-4f3e-b094-dfdbac1da163",
   "metadata": {},
   "outputs": [
    {
     "data": {
      "image/png": "[encoded data removed]",
      "text/plain": [
       "<Figure size 432x288 with 1 Axes>"
      ]
     },
     "metadata": {
      "needs_background": "light"
     },
     "output_type": "display_data"
    }
   ],
   "source": [
    "# create box plots of income by employment type\n",
    "sns.boxplot(x=\"Employment Type\",y=\"AnnualIncome\", data=df)\n",
    "\n",
    "# remove scientific notation\n",
    "plt.ticklabel_format(style='plain', axis='y')\n",
    "\n",
    "plt.xlabel(\"\")\n",
    "plt.ylabel(\"Annual Income\")\n",
    "plt.savefig(\"resources/emp_type_income_box.png\", bbox_inches=\"tight\", facecolor=\"w\")\n",
    "plt.show()"
   ]
  },
  {
   "cell_type": "code",
   "execution_count": 29,
   "id": "e7999f39-c31c-484b-84e3-024a2a139019",
   "metadata": {},
   "outputs": [
    {
     "data": {
      "image/png": "[encoded data removed]",
      "text/plain": [
       "<Figure size 432x288 with 1 Axes>"
      ]
     },
     "metadata": {
      "needs_background": "light"
     },
     "output_type": "display_data"
    }
   ],
   "source": [
    "# create box plots of income, showing customers and non-customers separately\n",
    "g=sns.boxplot(x=\"TravelInsurance\",y=\"AnnualIncome\", data=df, hue=\"Employment Type\")\n",
    "\n",
    "# remove scientific notation\n",
    "plt.ticklabel_format(style='plain', axis='y')\n",
    "\n",
    "plt.ylabel(\"Annual Income\")\n",
    "plt.xlabel(\"Purchased Travel Insurance?\")\n",
    "plt.legend(bbox_to_anchor=(1.05, 1), loc='upper left', borderaxespad=0)\n",
    "plt.savefig(\"resources/ins_emp_type_income_box.png\", bbox_inches=\"tight\", facecolor=\"w\")\n",
    "\n",
    "plt.show()"
   ]
  },
  {
   "cell_type": "code",
   "execution_count": 30,
   "id": "4e02fba3-9279-421d-b526-c77a652e207e",
   "metadata": {},
   "outputs": [
    {
     "data": {
      "image/png": "[encoded data removed]",
      "text/plain": [
       "<Figure size 432x288 with 1 Axes>"
      ]
     },
     "metadata": {
      "needs_background": "light"
     },
     "output_type": "display_data"
    }
   ],
   "source": [
    "# create box plots of income, showing customers and non-customers separately\n",
    "g=sns.boxplot(x=\"TravelInsurance\",y=\"AnnualIncome\", data=df, hue=\"FrequentFlyer\")\n",
    "\n",
    "# remove scientific notation\n",
    "plt.ticklabel_format(style='plain', axis='y')\n",
    "\n",
    "plt.ylabel(\"Annual Income\")\n",
    "plt.xlabel(\"Purchased Travel Insurance?\")\n",
    "plt.legend(bbox_to_anchor=(1.05, 1),\n",
    "           loc='upper left',\n",
    "           borderaxespad=0,\n",
    "          title=\"Frequent Flyer\")\n",
    "plt.show()"
   ]
  },
  {
   "cell_type": "markdown",
   "id": "7d6b299e-6e7d-4ee0-882a-3e51e667a2ad",
   "metadata": {},
   "source": [
    "## family sizes"
   ]
  },
  {
   "cell_type": "code",
   "execution_count": 31,
   "id": "0e6acada-c0d2-4f85-9292-9622f29d4fe6",
   "metadata": {},
   "outputs": [
    {
     "data": {
      "image/png": "[encoded data removed]",
      "text/plain": [
       "<Figure size 432x288 with 1 Axes>"
      ]
     },
     "metadata": {
      "needs_background": "light"
     },
     "output_type": "display_data"
    }
   ],
   "source": [
    "#count plot of family size, show customers and non-customers separately\n",
    "sns.countplot(x=\"FamilyMembers\", data=df, hue=\"TravelInsurance\")\n",
    "plt.xlabel(\"Family Size\")\n",
    "plt.ylabel(\"\")\n",
    "plt.show()"
   ]
  },
  {
   "cell_type": "code",
   "execution_count": 32,
   "id": "c52d8fee-3e45-42c0-ace8-6f61d772a730",
   "metadata": {},
   "outputs": [
    {
     "data": {
      "text/plain": [
       "<AxesSubplot:xlabel='TravelInsurance', ylabel='FamilyMembers'>"
      ]
     },
     "execution_count": 32,
     "metadata": {},
     "output_type": "execute_result"
    },
    {
     "data": {
      "image/png": "[encoded data removed]",
      "text/plain": [
       "<Figure size 432x288 with 1 Axes>"
      ]
     },
     "metadata": {
      "needs_background": "light"
     },
     "output_type": "display_data"
    }
   ],
   "source": [
    "sns.boxplot(x=\"TravelInsurance\", y=\"FamilyMembers\", data=df)"
   ]
  },
  {
   "cell_type": "code",
   "execution_count": 33,
   "id": "e6748f30-f859-4dc3-996f-12e4c69eccac",
   "metadata": {},
   "outputs": [
    {
     "name": "stdout",
     "output_type": "stream",
     "text": [
      "2                   3.80\n",
      "3                  19.01\n",
      "4                  22.54\n",
      "5                  18.45\n",
      "6                  18.17\n",
      "7                  11.41\n",
      "8                   2.96\n",
      "9                   3.66\n",
      "Name: FamilyMembers, dtype: float64 2                   5.17\n",
      "3                  18.95\n",
      "4                  27.02\n",
      "5                  23.10\n",
      "6                  12.92\n",
      "7                   7.60\n",
      "8                   2.98\n",
      "9                   2.27\n",
      "Name: FamilyMembers, dtype: float64\n"
     ]
    }
   ],
   "source": [
    "# calculate percentages of customers and non-customers in each family size bin\n",
    "ins_fam_perc = ins.FamilyMembers.value_counts(normalize=True, sort=False)*100\n",
    "non_ins_fam_perc = non_ins.FamilyMembers.value_counts(normalize=True, sort=False)*100\n",
    "print(ins_fam_perc, non_ins_fam_perc)"
   ]
  },
  {
   "cell_type": "code",
   "execution_count": 34,
   "id": "54c51d86-d338-446a-8c3f-9849afe7607e",
   "metadata": {},
   "outputs": [
    {
     "data": {
      "text/plain": [
       "TravelInsurance  FamilyMembers\n",
       "No               2                               5.17\n",
       "                 3                              18.95\n",
       "                 4                              27.02\n",
       "                 5                              23.10\n",
       "                 6                              12.92\n",
       "                 7                               7.60\n",
       "                 8                               2.98\n",
       "                 9                               2.27\n",
       "Yes              2                               3.80\n",
       "                 3                              19.01\n",
       "                 4                              22.54\n",
       "                 5                              18.45\n",
       "                 6                              18.17\n",
       "                 7                              11.41\n",
       "                 8                               2.96\n",
       "                 9                               3.66\n",
       "Name: FamilyMembers, dtype: float64"
      ]
     },
     "execution_count": 34,
     "metadata": {},
     "output_type": "execute_result"
    }
   ],
   "source": [
    "# calculate propertion of insured and uninsured customers within each family size grouping\n",
    "df.groupby(\"TravelInsurance\").FamilyMembers.value_counts(normalize=True, sort=False)*100"
   ]
  },
  {
   "cell_type": "code",
   "execution_count": 35,
   "id": "e7af1589-b140-4b7f-93cc-cfdeaf91da37",
   "metadata": {},
   "outputs": [
    {
     "data": {
      "text/plain": [
       "Ttest_indResult(statistic=3.5716348346537448, pvalue=0.00018160400369331164)"
      ]
     },
     "execution_count": 35,
     "metadata": {},
     "output_type": "execute_result"
    }
   ],
   "source": [
    "ins_fam = ins.FamilyMembers\n",
    "non_fam = non_ins.FamilyMembers\n",
    "stats.ttest_ind(ins_fam, non_fam, alternative=\"greater\")"
   ]
  },
  {
   "cell_type": "markdown",
   "id": "aa340bd7-76b8-4ee0-b693-9159c5b2babd",
   "metadata": {
    "tags": []
   },
   "source": [
    "## frequent flyers"
   ]
  },
  {
   "cell_type": "code",
   "execution_count": 36,
   "id": "5ceb3ff9-5012-4e5e-b6f2-5c12ac5501f8",
   "metadata": {},
   "outputs": [
    {
     "data": {
      "text/plain": [
       "20.986411675893308"
      ]
     },
     "execution_count": 36,
     "metadata": {},
     "output_type": "execute_result"
    }
   ],
   "source": [
    "# calculate percentage of customers who are frequent flyers\n",
    "df_transf.FrequentFlyer.mean()*100"
   ]
  },
  {
   "cell_type": "code",
   "execution_count": 37,
   "id": "88df092f-a4dd-4ad6-a8e6-2fcbbe3d7063",
   "metadata": {},
   "outputs": [
    {
     "data": {
      "text/plain": [
       "Employment Type\n",
       "Government Sector                              0.12\n",
       "Private Sector/Self Employed                   0.25\n",
       "Name: FrequentFlyer, dtype: float64"
      ]
     },
     "execution_count": 37,
     "metadata": {},
     "output_type": "execute_result"
    }
   ],
   "source": [
    "# calculate percentage of frequent flyers by employment type\n",
    "df_transf.groupby(\"Employment Type\").FrequentFlyer.mean()"
   ]
  },
  {
   "cell_type": "code",
   "execution_count": 38,
   "id": "4ae60c37-dcd2-469d-9500-2613f9d10f25",
   "metadata": {},
   "outputs": [
    {
     "data": {
      "text/plain": [
       "Private Sector/Self Employed    1417\n",
       "Government Sector                570\n",
       "Name: Employment Type, dtype: int64"
      ]
     },
     "execution_count": 38,
     "metadata": {},
     "output_type": "execute_result"
    }
   ],
   "source": [
    "df[\"Employment Type\"].value_counts()"
   ]
  },
  {
   "cell_type": "code",
   "execution_count": 39,
   "id": "510ce45c-dcec-43a3-82a2-0b693e54f86a",
   "metadata": {},
   "outputs": [
    {
     "data": {
      "image/png": "[encoded data removed]",
      "text/plain": [
       "<Figure size 432x288 with 1 Axes>"
      ]
     },
     "metadata": {
      "needs_background": "light"
     },
     "output_type": "display_data"
    }
   ],
   "source": [
    "# create count plot to distinguish travel insurance buyers and non-buyers, separating out frequent flyers\n",
    "\n",
    "sns.countplot(x=\"TravelInsurance\", hue=\"FrequentFlyer\", data=df)\n",
    "plt.ylabel(\"Customers\")\n",
    "plt.xlabel(\"Purchased Travel Insurance?\")\n",
    "plt.legend(title=\"Frequent Flyer?\")\n",
    "plt.savefig(\"resources/ins_emp_freq_flyers.png\", bbox_inches=\"tight\", facecolor=\"w\")\n",
    "\n",
    "plt.show()"
   ]
  },
  {
   "cell_type": "code",
   "execution_count": 70,
   "id": "685a0871-98ba-4a27-a9ce-5e64dce4f601",
   "metadata": {},
   "outputs": [
    {
     "data": {
      "image/png": "[encoded data removed]",
      "text/plain": [
       "<Figure size 432x288 with 1 Axes>"
      ]
     },
     "metadata": {
      "needs_background": "light"
     },
     "output_type": "display_data"
    }
   ],
   "source": [
    "# create count plot to distinguish frequent flyers, separating out travel insurance buyers and non-buyers \n",
    "\n",
    "sns.countplot(hue=\"TravelInsurance\", x=\"FrequentFlyer\", data=df)\n",
    "plt.ylabel(\"Customers\")\n",
    "plt.legend(title=\"Purchased Travel Insurance?\")\n",
    "plt.xlabel(\"Frequent Flyer?\")\n",
    "plt.savefig(\"resources/freq_flyers_ins.png\", bbox_inches=\"tight\", facecolor=\"w\")\n",
    "\n",
    "plt.show()"
   ]
  },
  {
   "cell_type": "code",
   "execution_count": null,
   "id": "f076f5f2-fdd6-41e8-85f4-5ae7fe2ee65d",
   "metadata": {},
   "outputs": [],
   "source": []
  },
  {
   "cell_type": "code",
   "execution_count": null,
   "id": "f65fe096-9307-4ec6-bf06-c6907b76ee0c",
   "metadata": {},
   "outputs": [],
   "source": []
  },
  {
   "cell_type": "code",
   "execution_count": 41,
   "id": "7e2ef432-d160-47ac-9318-673c018af9ee",
   "metadata": {},
   "outputs": [
    {
     "data": {
      "text/plain": [
       "FrequentFlyer\n",
       "0                  30.00\n",
       "1                  57.31\n",
       "Name: TravelInsurance, dtype: float64"
      ]
     },
     "execution_count": 41,
     "metadata": {},
     "output_type": "execute_result"
    }
   ],
   "source": [
    "# calculate percentage of frequent flyers & non-frequent flyers who purchased travel insurance\n",
    "df_transf.groupby(\"FrequentFlyer\")[\"TravelInsurance\"].mean()*100"
   ]
  },
  {
   "cell_type": "code",
   "execution_count": 42,
   "id": "397be755-ec1e-4151-b0fa-75d84a2383ac",
   "metadata": {},
   "outputs": [
    {
     "data": {
      "text/plain": [
       "FrequentFlyer\n",
       "0             864,203.82\n",
       "1           1,190,887.29\n",
       "Name: AnnualIncome, dtype: float64"
      ]
     },
     "execution_count": 42,
     "metadata": {},
     "output_type": "execute_result"
    }
   ],
   "source": [
    "# calculate average income of frequent and non-frequent flyers\n",
    "flyers_inc = df_transf.groupby(\"FrequentFlyer\")[\"AnnualIncome\"].mean()\n",
    "flyers_inc"
   ]
  },
  {
   "cell_type": "code",
   "execution_count": 43,
   "id": "4c91ff17-93a8-4f2b-9609-b11204f89866",
   "metadata": {},
   "outputs": [
    {
     "data": {
      "text/plain": [
       "37.80166904212481"
      ]
     },
     "execution_count": 43,
     "metadata": {},
     "output_type": "execute_result"
    }
   ],
   "source": [
    "# on average what percentage more do frequent flyers earn?\n",
    "(flyers_inc[1]/flyers_inc[0] - 1)*100"
   ]
  },
  {
   "cell_type": "code",
   "execution_count": 44,
   "id": "8153299f-839f-452d-a0f9-1f6c5941a0b0",
   "metadata": {},
   "outputs": [
    {
     "data": {
      "image/png": "[encoded data removed]",
      "text/plain": [
       "<Figure size 432x288 with 1 Axes>"
      ]
     },
     "metadata": {
      "needs_background": "light"
     },
     "output_type": "display_data"
    }
   ],
   "source": [
    "# create box plots of income, separating out employment type and frequent flyers\n",
    "sns.boxplot(x=\"Employment Type\",y=\"AnnualIncome\", data=df, hue=\"FrequentFlyer\")\n",
    "\n",
    "# remove scientific notation\n",
    "plt.ticklabel_format(style='plain', axis='y')\n",
    "\n",
    "plt.legend(bbox_to_anchor=(1.05, 1),\n",
    "           loc='upper left',\n",
    "           borderaxespad=0,\n",
    "          title = \"Frequent Flyer?\")\n",
    "plt.ylabel(\"Annual Income\")\n",
    "plt.show()"
   ]
  },
  {
   "cell_type": "markdown",
   "id": "6481af2c-07c7-4e23-b3c3-a083a3a0fc0b",
   "metadata": {},
   "source": [
    "## Travel Abroad"
   ]
  },
  {
   "cell_type": "code",
   "execution_count": 45,
   "id": "180a694f-432a-4085-98e2-a3c62b1f2c54",
   "metadata": {},
   "outputs": [
    {
     "data": {
      "image/png": "[encoded data removed]",
      "text/plain": [
       "<Figure size 432x288 with 1 Axes>"
      ]
     },
     "metadata": {
      "needs_background": "light"
     },
     "output_type": "display_data"
    }
   ],
   "source": [
    "sns.countplot(x=\"TravelInsurance\", hue=\"EverTravelledAbroad\", data=df)\n",
    "plt.ylabel(\"Customers\")\n",
    "plt.xlabel(\"Purchased Travel Insurance?\")\n",
    "plt.legend(title=\"Have Travelled Abaord?\")\n",
    "plt.savefig(\"resources/ins_travel_abroad.png\", bbox_inches=\"tight\", facecolor=\"w\")\n",
    "\n",
    "plt.show()"
   ]
  },
  {
   "cell_type": "code",
   "execution_count": 72,
   "id": "ef4708e7-d4f1-43ad-a9f3-1e1517a56371",
   "metadata": {},
   "outputs": [
    {
     "data": {
      "image/png": "[encoded data removed]",
      "text/plain": [
       "<Figure size 432x288 with 1 Axes>"
      ]
     },
     "metadata": {
      "needs_background": "light"
     },
     "output_type": "display_data"
    }
   ],
   "source": [
    "sns.countplot(hue=\"TravelInsurance\", x=\"EverTravelledAbroad\", data=df)\n",
    "plt.ylabel(\"Customers\")\n",
    "plt.legend(title=\"Purchased Travel Insurance?\")\n",
    "plt.xlabel(\"Have Travelled Abaord?\")\n",
    "plt.savefig(\"resources/travel_abroad_ins.png\", bbox_inches=\"tight\", facecolor=\"w\")\n",
    "\n",
    "plt.show()"
   ]
  },
  {
   "cell_type": "code",
   "execution_count": null,
   "id": "6dd052a3-5586-46e6-b8a3-d953defca961",
   "metadata": {},
   "outputs": [],
   "source": []
  },
  {
   "cell_type": "code",
   "execution_count": 46,
   "id": "42dde3ae-725d-444f-8f83-59f0fc2a4fa6",
   "metadata": {},
   "outputs": [
    {
     "data": {
      "text/plain": [
       "EverTravelledAbroad\n",
       "0                  25.64\n",
       "1                  78.42\n",
       "Name: TravelInsurance, dtype: float64"
      ]
     },
     "execution_count": 46,
     "metadata": {},
     "output_type": "execute_result"
    }
   ],
   "source": [
    "# calculate percentage of those who have and haven't travelled abroad who have purchased travel insurance\n",
    "df_transf.groupby(\"EverTravelledAbroad\")[\"TravelInsurance\"].mean()*100"
   ]
  },
  {
   "cell_type": "code",
   "execution_count": 47,
   "id": "de5ed4c3-b4ef-4a2c-964f-08596a047b1a",
   "metadata": {},
   "outputs": [
    {
     "data": {
      "text/plain": [
       "19.124308002013084"
      ]
     },
     "execution_count": 47,
     "metadata": {},
     "output_type": "execute_result"
    }
   ],
   "source": [
    "df_transf.EverTravelledAbroad.mean()*100"
   ]
  },
  {
   "cell_type": "code",
   "execution_count": 48,
   "id": "69325113-25cf-40d1-ab63-0857d0aadc61",
   "metadata": {},
   "outputs": [
    {
     "data": {
      "image/png": "[encoded data removed]",
      "text/plain": [
       "<Figure size 432x288 with 1 Axes>"
      ]
     },
     "metadata": {
      "needs_background": "light"
     },
     "output_type": "display_data"
    }
   ],
   "source": [
    "# create box plots of income, showing customers and non-customers separately\n",
    "g=sns.boxplot(x=\"TravelInsurance\",y=\"AnnualIncome\", data=df, hue=\"EverTravelledAbroad\")\n",
    "\n",
    "# remove scientific notation\n",
    "plt.ticklabel_format(style='plain', axis='y')\n",
    "plt.legend(bbox_to_anchor=(1.05, 1),\n",
    "           loc='upper left',\n",
    "           borderaxespad=0,\n",
    "          title=\"Have Travelled Abroad\")\n",
    "plt.ylabel(\"Annual Income\")\n",
    "plt.xlabel(\"Purchased Travel Insurance?\")\n",
    "g.set_xticklabels([\"No\",\"Yes\"])\n",
    "plt.show()"
   ]
  },
  {
   "cell_type": "code",
   "execution_count": 49,
   "id": "f76b103e-9e62-4ff2-91a3-af4a39126287",
   "metadata": {},
   "outputs": [
    {
     "data": {
      "image/png": "[encoded data removed]",
      "text/plain": [
       "<Figure size 432x288 with 1 Axes>"
      ]
     },
     "metadata": {
      "needs_background": "light"
     },
     "output_type": "display_data"
    }
   ],
   "source": [
    "# create box plots of income, showing customers and non-customers separately\n",
    "g= sns.boxplot(x=\"Employment Type\",\n",
    "            y=\"AnnualIncome\",\n",
    "            data=df,\n",
    "            hue=\"EverTravelledAbroad\")\n",
    "\n",
    "# remove scientific notation\n",
    "plt.ticklabel_format(style='plain', axis='y')\n",
    "plt.legend(bbox_to_anchor=(1.05, 1),\n",
    "         loc='upper left',\n",
    "         borderaxespad=0,\n",
    "        title=\"Have Traveled Abroad\")\n",
    "plt.ylabel(\"Annual Income\")\n",
    "plt.show()"
   ]
  },
  {
   "cell_type": "code",
   "execution_count": 50,
   "id": "7e64586d-6f64-46ed-99ea-deefb0c6e060",
   "metadata": {},
   "outputs": [
    {
     "data": {
      "image/png": "[encoded data removed]",
      "text/plain": [
       "<Figure size 432x288 with 1 Axes>"
      ]
     },
     "metadata": {
      "needs_background": "light"
     },
     "output_type": "display_data"
    }
   ],
   "source": [
    "# create box plots of income, showing customers and non-customers separately\n",
    "sns.boxplot(x=\"FrequentFlyer\",y=\"AnnualIncome\", data=df, hue=\"EverTravelledAbroad\")\n",
    "\n",
    "# remove scientific notation\n",
    "plt.ticklabel_format(style='plain', axis='y')\n",
    "plt.legend(bbox_to_anchor=(1.05, 1),\n",
    "           loc='upper left',\n",
    "           borderaxespad=0,\n",
    "          title=\"Have Travelled Abroad\")\n",
    "plt.xlabel(\"Frequent Flyer?\")\n",
    "plt.ylabel(\"Annual Income\")\n",
    "plt.show()"
   ]
  },
  {
   "cell_type": "code",
   "execution_count": 51,
   "id": "e7af4321-28fd-456e-ad3d-4bc77b7aaf43",
   "metadata": {},
   "outputs": [
    {
     "data": {
      "text/plain": [
       "FrequentFlyer  Employment Type             \n",
       "No             Private Sector/Self Employed                  67.96\n",
       "               Government Sector                             32.04\n",
       "Yes            Private Sector/Self Employed                  83.93\n",
       "               Government Sector                             16.07\n",
       "Name: Employment Type, dtype: float64"
      ]
     },
     "execution_count": 51,
     "metadata": {},
     "output_type": "execute_result"
    }
   ],
   "source": [
    "df.groupby(\"FrequentFlyer\")[\"Employment Type\"].value_counts(normalize=True)*100"
   ]
  },
  {
   "cell_type": "markdown",
   "id": "25d32950-91da-48dd-b740-480a4e336958",
   "metadata": {},
   "source": [
    "## hypothesis testing"
   ]
  },
  {
   "cell_type": "code",
   "execution_count": 52,
   "id": "71a0a326-3934-48b7-a421-a0b1c460a277",
   "metadata": {},
   "outputs": [
    {
     "data": {
      "text/plain": [
       "Ttest_indResult(statistic=19.257785253687544, pvalue=3.317508880176645e-76)"
      ]
     },
     "execution_count": 52,
     "metadata": {},
     "output_type": "execute_result"
    }
   ],
   "source": [
    "# perform hypothesis test\n",
    "## with h-null that customers who bought insurance and didn't buy insurance have the same income\n",
    "## and h-alt that customers who bought insurance have higher incomes than those who didn't\n",
    "\n",
    "# customer income\n",
    "ins_inc = ins.AnnualIncome\n",
    "\n",
    "# non-customer income\n",
    "non_inc = non_ins.AnnualIncome\n",
    "\n",
    "stats.ttest_ind(ins_inc, non_inc, alternative=\"greater\")"
   ]
  },
  {
   "cell_type": "code",
   "execution_count": 53,
   "id": "d8774c51-f6b5-4e36-b97b-791d2d175944",
   "metadata": {},
   "outputs": [
    {
     "data": {
      "text/plain": [
       "Ttest_indResult(statistic=16.60090219850942, pvalue=2.3419170641682904e-58)"
      ]
     },
     "execution_count": 53,
     "metadata": {},
     "output_type": "execute_result"
    }
   ],
   "source": [
    "# perform hypothesis test\n",
    "## with h-null that private sector and government employees have the same income\n",
    "## and h-alt that private sector employees have a higher income than non-customers\n",
    "\n",
    "# private sector income\n",
    "priv_inc = df[df[\"Employment Type\"]==\"Private Sector/Self Employed\"].AnnualIncome\n",
    "\n",
    "# public sector income\n",
    "pub_inc = df[df[\"Employment Type\"]==\"Government Sector\"].AnnualIncome\n",
    "\n",
    "stats.ttest_ind(priv_inc, pub_inc, alternative=\"greater\")"
   ]
  },
  {
   "cell_type": "code",
   "execution_count": null,
   "id": "b541c552-0f05-4292-afa6-057ca7f6edba",
   "metadata": {},
   "outputs": [],
   "source": []
  },
  {
   "cell_type": "markdown",
   "id": "bcc2d9ca-1432-46bd-a8e8-ea261e44b14e",
   "metadata": {},
   "source": [
    "## additional considerations?"
   ]
  },
  {
   "cell_type": "code",
   "execution_count": 54,
   "id": "00b7067a-40a5-4436-9af5-12f2ba7d26fa",
   "metadata": {},
   "outputs": [
    {
     "data": {
      "text/plain": [
       "ChronicDiseases\n",
       "0                  35.19\n",
       "1                  37.14\n",
       "Name: TravelInsurance, dtype: float64"
      ]
     },
     "execution_count": 54,
     "metadata": {},
     "output_type": "execute_result"
    }
   ],
   "source": [
    "# calculate percentages of customers with both chronic and non-chronic conditions that purpchased travel insurance\n",
    "df_transf.groupby(\"ChronicDiseases\").TravelInsurance.mean()*100"
   ]
  },
  {
   "cell_type": "code",
   "execution_count": 55,
   "id": "248fd802-385c-488f-bf99-45dc04a57f4f",
   "metadata": {},
   "outputs": [
    {
     "data": {
      "text/plain": [
       "Ttest_indResult(statistic=0.8105420115485078, pvalue=0.2088629466892527)"
      ]
     },
     "execution_count": 55,
     "metadata": {},
     "output_type": "execute_result"
    }
   ],
   "source": [
    "chron = df_transf[df_transf.ChronicDiseases==1].TravelInsurance\n",
    "non_chron = df_transf[df_transf.ChronicDiseases==0].TravelInsurance\n",
    "stats.ttest_ind(chron, non_chron, alternative=\"greater\")"
   ]
  },
  {
   "cell_type": "code",
   "execution_count": 56,
   "id": "87c6aaa9-6f26-4a56-b9d6-564a27bd7c96",
   "metadata": {},
   "outputs": [
    {
     "data": {
      "text/plain": [
       "Employment Type\n",
       "Government Sector                             11.75\n",
       "Private Sector/Self Employed                  24.70\n",
       "Name: FrequentFlyer, dtype: float64"
      ]
     },
     "execution_count": 56,
     "metadata": {},
     "output_type": "execute_result"
    }
   ],
   "source": [
    "df_transf.groupby(\"Employment Type\").FrequentFlyer.mean()*100"
   ]
  },
  {
   "cell_type": "code",
   "execution_count": 57,
   "id": "7c1e293f-b3d5-4865-ac41-ca4f455f1071",
   "metadata": {},
   "outputs": [
    {
     "data": {
      "text/plain": [
       "Employment Type\n",
       "Government Sector                              7.89\n",
       "Private Sector/Self Employed                  23.64\n",
       "Name: EverTravelledAbroad, dtype: float64"
      ]
     },
     "execution_count": 57,
     "metadata": {},
     "output_type": "execute_result"
    }
   ],
   "source": [
    "df_transf.groupby(\"Employment Type\").EverTravelledAbroad.mean()*100"
   ]
  },
  {
   "cell_type": "code",
   "execution_count": 58,
   "id": "caf5bb83-f3b9-41a3-a78c-fa8b227d7c78",
   "metadata": {},
   "outputs": [
    {
     "data": {
      "text/plain": [
       "GraduateOrNot  Employment Type             \n",
       "No             Private Sector/Self Employed                  85.08\n",
       "               Government Sector                             14.92\n",
       "Yes            Private Sector/Self Employed                  68.91\n",
       "               Government Sector                             31.09\n",
       "Name: Employment Type, dtype: float64"
      ]
     },
     "execution_count": 58,
     "metadata": {},
     "output_type": "execute_result"
    }
   ],
   "source": [
    "df.groupby(\"GraduateOrNot\")[\"Employment Type\"].value_counts(normalize=True)*100"
   ]
  },
  {
   "cell_type": "code",
   "execution_count": null,
   "id": "dfa18a36-619a-4efa-a661-d2fa17311e06",
   "metadata": {},
   "outputs": [],
   "source": []
  }
 ],
 "metadata": {
  "kernelspec": {
   "display_name": "PythonData",
   "language": "python",
   "name": "pythondata"
  },
  "language_info": {
   "codemirror_mode": {
    "name": "ipython",
    "version": 3
   },
   "file_extension": ".py",
   "mimetype": "text/x-python",
   "name": "python",
   "nbconvert_exporter": "python",
   "pygments_lexer": "ipython3",
   "version": "3.9.4"
  }
 },
 "nbformat": 4,
 "nbformat_minor": 5
}
